{
 "cells": [
  {
   "cell_type": "code",
   "execution_count": null,
   "id": "23027b55",
   "metadata": {},
   "outputs": [],
   "source": [
    "import pandas as pd   #import functions allows the code to work\n",
    "import seaborn as sns\n",
    "import numpy as np\n",
    "\n",
    "airbnb = pd.read_csv('AB_NYC_2019.csv')   #loads csv file\n",
    "\n",
    "print(airbnb.head())   #prints the data\n",
    "\n",
    "sns.heatmap(airbnb.isnull(), cbar=False)  #finds the seaborn heatmap\n",
    "\n",
    "airbnb.fillna(airbnb.median(), inplace=True)   #finds the value of the median\n",
    "\n",
    "airbnb['last_review'] = pd.to_datetime(airbnb['last_review'])\n",
    "airbnb['last_review_year'] = airbnb['last_review'].dt.year    #isolates the year from the last collumn\n",
    "\n",
    "mean_price_by_neighborhood = airbnb.groupby('neighbourhood')['price'].mean()\n",
    "print(mean_price_by_neighborhood.head())   #finds the mean and prints it\n"
   ]
  },
  {
   "cell_type": "code",
   "execution_count": null,
   "id": "7fb2afc9",
   "metadata": {},
   "outputs": [],
   "source": [
    "import requests\n",
    "\n",
    "def get_auth_token(client_id, client_secret):\n",
    "    token_url = 'https://accounts.spotify.com/api/token'\n",
    "    headers = {'Content-Type': 'application/x-www-form-urlencoded'}\n",
    "    data = {'grant_type': 'client_credentials'}\n",
    "    auth = (client_id, client_secret)\n",
    "    response = requests.post(token_url, headers=headers, data=data, auth=auth)\n",
    "    response_data = response.json()\n",
    "    access_token = response_data['access_token']\n",
    "    return access_token\n",
    "\n",
    "def search_track(track_name, auth_token):\n",
    "    search_url = 'https://api.spotify.com/v1/search'\n",
    "    headers = {'Authorization': 'Bearer ' + auth_token}\n",
    "    params = {'q': track_name, 'type': 'track'}\n",
    "    response = requests.get(search_url, headers=headers, params=params)\n",
    "    response_data = response.json()\n",
    "    track_info = response_data['tracks']['items'][0]\n",
    "    return track_info\n",
    "\n",
    "def get_audio_features(track_id, auth_token):\n",
    "    audio_features_url = 'https://api.spotify.com/v1/audio-features/' + track_id\n",
    "    headers = {'Authorization': 'Bearer ' + auth_token}\n",
    "    response = requests.get(audio_features_url, headers=headers)\n",
    "    response_data = response.json()\n",
    "    audio_features = response_data\n",
    "    return audio_features\n",
    "\n",
    "def get_artist(artist_name, auth_token):\n",
    "    search_url = 'https://api.spotify.com/v1/search'\n",
    "    headers = {'Authorization': 'Bearer ' + auth_token}\n",
    "    params = {'q': artist_name, 'type': 'artist'}\n",
    "    response = requests.get(search_url, headers=headers, params=params)\n",
    "    response_data = response.json()\n",
    "    artist_info = response_data['artists']['items'][0]\n",
    "    return artist_info\n",
    "\n",
    "def get_related_artists(artist_id, auth_token):\n",
    "    related_artists_url = 'https://api.spotify.com/v1/artists/' + artist_id + '/related-artists'\n",
    "    headers = {'Authorization': 'Bearer ' + auth_token}\n",
    "    response = requests.get(related_artists_url, headers=headers)\n",
    "    response_data = response.json()\n",
    "    related_artists = response_data['artists']\n",
    "    return related_artists"
   ]
  },
  {
   "cell_type": "code",
   "execution_count": null,
   "id": "999b872c",
   "metadata": {},
   "outputs": [],
   "source": []
  }
 ],
 "metadata": {
  "kernelspec": {
   "display_name": "Python 3 (ipykernel)",
   "language": "python",
   "name": "python3"
  },
  "language_info": {
   "codemirror_mode": {
    "name": "ipython",
    "version": 3
   },
   "file_extension": ".py",
   "mimetype": "text/x-python",
   "name": "python",
   "nbconvert_exporter": "python",
   "pygments_lexer": "ipython3",
   "version": "3.9.12"
  }
 },
 "nbformat": 4,
 "nbformat_minor": 5
}
