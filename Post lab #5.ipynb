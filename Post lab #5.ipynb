{
 "cells": [
  {
   "cell_type": "code",
   "execution_count": 3,
   "id": "f937276c",
   "metadata": {},
   "outputs": [],
   "source": [
    "import selenium\n",
    "from selenium.webdriver.support.ui import WebDriverWait\n",
    "from selenium.webdriver.support import expected_conditions as EC\n",
    "from selenium.webdriver.common.keys import Keys\n",
    "from selenium.webdriver.common.by import By\n",
    "from selenium import webdriver\n",
    "from selenium.webdriver.chrome.service import Service\n",
    "import time"
   ]
  },
  {
   "cell_type": "code",
   "execution_count": null,
   "id": "f8dd7f34",
   "metadata": {},
   "outputs": [],
   "source": [
    "PATH = Service(\"/Users/tylercostin/Harp 161 Lab/chromedriver_mac64/chromedriver.exe\")\n",
    "driver = webdriver.Chrome(service=PATH)\n",
    "\n",
    "driver.get(\"https://techwithtim.net/\")\n",
    "\n",
    "link = driver.find_element(By.LINK_TEXT, \"Python Programming\")\n",
    "link.click()\n",
    "\n",
    "try:\n",
    "    element = WebDriverWait(driver, 10).until(\n",
    "        EC.presence_of_element_located((By.LINK_TEXT, \"Beginner Python Tutorials\"))\n",
    "    )\n",
    "    element.clear()\n",
    "    element.click()\n",
    "    \n",
    "    element = WebDriverWait(driver, 10).until(\n",
    "        EC.presence_of_element_located((By.ID, \"sow-button-19310003\"))\n",
    "    )\n",
    "    element.click()\n",
    "    \n",
    "except:\n",
    "    driver.quit()"
   ]
  },
  {
   "cell_type": "code",
   "execution_count": 5,
   "id": "96db090a",
   "metadata": {},
   "outputs": [
    {
     "ename": "SyntaxError",
     "evalue": "invalid syntax (575520508.py, line 16)",
     "output_type": "error",
     "traceback": [
      "\u001b[0;36m  Input \u001b[0;32mIn [5]\u001b[0;36m\u001b[0m\n\u001b[0;31m    except:\u001b[0m\n\u001b[0m    ^\u001b[0m\n\u001b[0;31mSyntaxError\u001b[0m\u001b[0;31m:\u001b[0m invalid syntax\n"
     ]
    }
   ],
   "source": [
    "PATH = Service(\"/Users/tylercostin/Harp 161 Lab/chromedriver_mac64/chromedriver.exe\")\n",
    "driver = webdriver.Chrome(service=PATH)\n",
    "driver.get(\"https://hoopshype.com/\")\n",
    "\n",
    "link = driver.find_element(By.LINK_TEXT, '//table[@class=\"hh-salaries-table')\n",
    "link.click()\n",
    "\n",
    "rows = []\n",
    "for tr in table.find_elements_by_xpath('//tbody/tr'):\n",
    "    rows.append([td.text for td in tr.find_elements_by_xpath('td')])\n",
    "    \n",
    "df = pd.DataFrame(rows, columns=headers)\n",
    "\n",
    "df.to_csv('players_salaries.csv', index=False)\n",
    "\n",
    "except:\n",
    "    driver.quit()"
   ]
  }
 ],
 "metadata": {
  "kernelspec": {
   "display_name": "Python 3 (ipykernel)",
   "language": "python",
   "name": "python3"
  },
  "language_info": {
   "codemirror_mode": {
    "name": "ipython",
    "version": 3
   },
   "file_extension": ".py",
   "mimetype": "text/x-python",
   "name": "python",
   "nbconvert_exporter": "python",
   "pygments_lexer": "ipython3",
   "version": "3.9.12"
  }
 },
 "nbformat": 4,
 "nbformat_minor": 5
}
