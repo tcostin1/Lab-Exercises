{
 "cells": [
  {
   "cell_type": "code",
   "execution_count": null,
   "id": "4634e399",
   "metadata": {},
   "outputs": [],
   "source": [
    "from bs4 import BeautifulSoup\n",
    "import requests\n",
    "import html5lib\n",
    "import csv\n",
    "\n",
    "source = requests.get(\"https://www.imdb.com/list/ls055592025/\").text\n",
    "soup = BeautifulSoup(source, \"lxml\")\n",
    "print(soup)"
   ]
  },
  {
   "cell_type": "code",
   "execution_count": null,
   "id": "51a219aa",
   "metadata": {},
   "outputs": [],
   "source": [
    "section1 = soup.find(\"div\", class_=\"lister-item mode-detail\")\n",
    "print(section1)\n",
    "\n",
    "for movie in section1:\n",
    "    title = movie.h3.a.text\n",
    "    release_date = movie.find(\"span\", class_=\"lister-item-year text-muted unbold\").text.strip(\"()\")\n",
    "    print(release_date)"
   ]
  },
  {
   "cell_type": "code",
   "execution_count": null,
   "id": "a43375f6",
   "metadata": {},
   "outputs": [],
   "source": [
    "import requests\n",
    "from bs4 import BeautifulSoup\n",
    "\n",
    "url = \"https://www.imdb.com/list/ls055592025/\"\n",
    "response = requests.get(url)\n",
    "html_content = response.content\n",
    "\n",
    "soup = BeautifulSoup(html_content, \"html.parser\")\n",
    "\n",
    "movie_items = soup.find_all(\"div\", class_=\"lister-item mode-detail\")\n",
    "\n",
    "for movie in movie_items:\n",
    "    title = movie.h3.a.text\n",
    "    release_date = movie.find(\"span\", class_=\"lister-item-year text-muted unbold\").text.strip(\"()\")\n",
    "    print(release_date)\n"
   ]
  },
  {
   "cell_type": "code",
   "execution_count": null,
   "id": "9bf9b187",
   "metadata": {},
   "outputs": [],
   "source": [
    "soup = BeautifulSoup(response.content, 'html.parser')\n",
    "title = soup.find_all('h3', class_='lister-item-header')\n",
    "\n",
    "for movie in title:\n",
    "    header = movie.find('a').text\n",
    "    print(header)"
   ]
  },
  {
   "cell_type": "code",
   "execution_count": null,
   "id": "536a0764",
   "metadata": {},
   "outputs": [],
   "source": [
    "soup = BeautifulSoup(response.content, 'html.parser')\n",
    "movies = soup.find_all('div', class_='lister-item-content')\n",
    "\n",
    "for movie in movies:\n",
    "    title = movie.find('a').text\n",
    "    directors = movie.find_all('p')[2].find_all('a')\n",
    "    director_names = [director.text for director in directors]\n",
    "    print(director_names)"
   ]
  },
  {
   "cell_type": "code",
   "execution_count": null,
   "id": "a9899bba",
   "metadata": {},
   "outputs": [],
   "source": []
  }
 ],
 "metadata": {
  "kernelspec": {
   "display_name": "Python 3 (ipykernel)",
   "language": "python",
   "name": "python3"
  },
  "language_info": {
   "codemirror_mode": {
    "name": "ipython",
    "version": 3
   },
   "file_extension": ".py",
   "mimetype": "text/x-python",
   "name": "python",
   "nbconvert_exporter": "python",
   "pygments_lexer": "ipython3",
   "version": "3.9.12"
  }
 },
 "nbformat": 4,
 "nbformat_minor": 5
}
