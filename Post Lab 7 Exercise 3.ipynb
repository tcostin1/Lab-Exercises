{
 "cells": [
  {
   "cell_type": "code",
   "execution_count": 11,
   "id": "88538c07",
   "metadata": {},
   "outputs": [],
   "source": [
    "import requests\n",
    "import json"
   ]
  },
  {
   "cell_type": "code",
   "execution_count": 17,
   "id": "88611ac7",
   "metadata": {},
   "outputs": [
    {
     "name": "stdout",
     "output_type": "stream",
     "text": [
      "US 13 holidays\n",
      "GB 16 holidays\n",
      "FR 11 holidays\n",
      "DE 19 holidays\n",
      "ES 34 holidays\n",
      "IT 12 holidays\n",
      "JP 16 holidays\n",
      "AU 21 holidays\n",
      "CA 30 holidays\n",
      "BR 14 holidays\n",
      "total number of holidays: 186\n"
     ]
    }
   ],
   "source": [
    "countries = ['US', 'GB', 'FR', 'DE', 'ES', 'IT', 'JP', 'AU', 'CA', 'BR']\n",
    "\n",
    "total_holidays = 0\n",
    "\n",
    "for country in countries:\n",
    "    url = f\"https://date.nager.at/api/v3/PublicHolidays/2023/{country}\"\n",
    "    holiday_data = requests.get(url).json()\n",
    "    \n",
    "    if holiday_data:\n",
    "        num_holidays = len(holiday_data)\n",
    "        total_holidays += num_holidays\n",
    "        str = 'holidays'\n",
    "        print(country + \" %d\" %num_holidays + \" %s\" %str)\n",
    "        \n",
    "    else:\n",
    "        print(\"no holiday data available for \" + \"%s\" %country)\n",
    "        \n",
    "print(\"total number of holidays: \" + \"%d\" %total_holidays)"
   ]
  },
  {
   "cell_type": "code",
   "execution_count": null,
   "id": "d8bbad41",
   "metadata": {},
   "outputs": [],
   "source": []
  }
 ],
 "metadata": {
  "kernelspec": {
   "display_name": "Python 3 (ipykernel)",
   "language": "python",
   "name": "python3"
  },
  "language_info": {
   "codemirror_mode": {
    "name": "ipython",
    "version": 3
   },
   "file_extension": ".py",
   "mimetype": "text/x-python",
   "name": "python",
   "nbconvert_exporter": "python",
   "pygments_lexer": "ipython3",
   "version": "3.9.12"
  }
 },
 "nbformat": 4,
 "nbformat_minor": 5
}
