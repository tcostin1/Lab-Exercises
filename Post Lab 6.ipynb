{
 "cells": [
  {
   "cell_type": "code",
   "execution_count": null,
   "id": "21ecc918",
   "metadata": {},
   "outputs": [],
   "source": [
    "from selenium import webdriver\n",
    "from selenium.webdriver.chrome.service import Service\n",
    "from selenium.webdriver.common.keys import Keys\n",
    "from selenium.webdriver.common.by import By\n",
    "from selenium.webdriver.common.action_chains import ActionChains\n",
    "from selenium.webdriver.support.ui import WebDriverWait\n",
    "from selenium.webdriver.support import expected_conditions as EC"
   ]
  },
  {
   "cell_type": "code",
   "execution_count": null,
   "id": "c03746ea",
   "metadata": {},
   "outputs": [],
   "source": [
    "PATH = Service(\"/Users/tylercostin/Harp 161 Lab/chromedriver_mac64/chromedriver.exe\")\n",
    "driver = webdriver.Chrome(service=PATH)\n",
    "\n",
    "driver.get('https://www.binghamton-ny.gov/home')\n",
    "\n",
    "gov_tab_xpath = '//*[@id=\"bs-example-navbar-collapse-1\"]/ul[1]/li[2]/a'\n",
    "link = WebDriverWait(driver, 10).until(EC.element_to_be_clickable((By.XPATH, gov_tab_xpath)))\n",
    "gov_tab = driver.find_element_by_xpath(gov_tab_xpath)\n",
    "ActionChains(driver).move_to_element(gov_tab).click().perform()\n",
    "\n",
    "dept_link_xpath = '//*[@id=\"bs-example-navbar-collapse-1\"]/ul[1]/li[2]/ul/li[1]/a'\n",
    "dept_link = driver.find_element_by_xpath(dept_link_xpath)\n",
    "dept_link.click()\n",
    "\n",
    "driver.quit()\n",
    "\n"
   ]
  },
  {
   "cell_type": "code",
   "execution_count": null,
   "id": "0f0f85cb",
   "metadata": {},
   "outputs": [],
   "source": [
    "driver = webdriver.Chrome()\n",
    "try:\n",
    "    driver.get('https://www.binghamton-ny.gov/home')\n",
    "\n",
    "    wait = WebDriverWait(driver, 10)\n",
    "    wait.until(EC.presence_of_element_located((By.LINK_TEXT, 'Personnel / Civil Service')))\n",
    "\n",
    "    personnel_link = driver.find_element_by_link_text('Personnel / Civil Service')\n",
    "    personnel_link.click()\n",
    "\n",
    "    wait.until(EC.element_to_be_clickable((By.LINK_TEXT, 'Employment')))\n",
    "\n",
    "    employment_link = driver.find_element_by_link_text('Employment')\n",
    "    employment_link.click()\n",
    "\n",
    "    wait.until(EC.title_contains('Employment'))\n",
    "\n",
    "finally:\n",
    "    driver.quit()"
   ]
  },
  {
   "cell_type": "code",
   "execution_count": null,
   "id": "64bd9f2a",
   "metadata": {},
   "outputs": [],
   "source": [
    "import csv\n",
    "import pandas as pd\n",
    "\n",
    "driver = webdriver.Chrome()\n",
    "try:\n",
    "    driver.get('https://www.binghamton-ny.gov/personnelcivil-service/employment')\n",
    "\n",
    "    wait = WebDriverWait(driver, 10)\n",
    "    table = wait.until(EC.presence_of_element_located((By.XPATH, '//table[@class=\"table table-striped table-hover\"]')))\n",
    "    \n",
    "    with open('job_openings.csv', 'w', newline='') as csvfile:\n",
    "        writer = csv.DictWriter(csvfile, fieldnames=['Posting Date', 'Position', 'Department', 'Type of Appointment', 'Salary'])\n",
    "        writer.writeheader()\n",
    "        rows = table.find_elements(By.TAG_NAME, 'tr')[1:]  \n",
    "        for row in rows:\n",
    "            cells = row.find_elements(By.TAG_NAME, 'td')\n",
    "            row_data = {\n",
    "                'Posting Date': cells[0].text.strip(),\n",
    "                'Position': cells[1].text.strip(),\n",
    "                'Department': cells[2].text.strip(),\n",
    "                'Type of Appointment': cells[3].text.strip(),\n",
    "                'Salary': cells[4].text.strip()\n",
    "            }\n",
    "            writer.writerow(row_data)\n",
    "\n",
    "finally:\n",
    "    driver.quit()\n",
    "\n",
    "city = pd.read_csv('job_openings.csv')\n",
    "print(city)"
   ]
  },
  {
   "cell_type": "code",
   "execution_count": null,
   "id": "9b32c889",
   "metadata": {},
   "outputs": [],
   "source": []
  }
 ],
 "metadata": {
  "kernelspec": {
   "display_name": "Python 3 (ipykernel)",
   "language": "python",
   "name": "python3"
  },
  "language_info": {
   "codemirror_mode": {
    "name": "ipython",
    "version": 3
   },
   "file_extension": ".py",
   "mimetype": "text/x-python",
   "name": "python",
   "nbconvert_exporter": "python",
   "pygments_lexer": "ipython3",
   "version": "3.9.12"
  }
 },
 "nbformat": 4,
 "nbformat_minor": 5
}
