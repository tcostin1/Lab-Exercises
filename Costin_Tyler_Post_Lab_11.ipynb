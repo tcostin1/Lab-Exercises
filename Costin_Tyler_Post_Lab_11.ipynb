{
 "cells": [
  {
   "cell_type": "code",
   "execution_count": 3,
   "id": "75b821a1",
   "metadata": {},
   "outputs": [
    {
     "name": "stderr",
     "output_type": "stream",
     "text": [
      "Exception in Tkinter callback\n",
      "Traceback (most recent call last):\n",
      "  File \"/Users/tylercostin/opt/anaconda3/lib/python3.9/tkinter/__init__.py\", line 1892, in __call__\n",
      "    return self.func(*args)\n",
      "  File \"/var/folders/w0/1x7zpxnn217_1x6gdj65kbw00000gn/T/ipykernel_89862/2903344072.py\", line 28, in submit_answer\n",
      "    if question_number == num_questions:\n",
      "UnboundLocalError: local variable 'question_number' referenced before assignment\n"
     ]
    }
   ],
   "source": [
    "from tkinter import *\n",
    "\n",
    "root = Tk()\n",
    "root.geometry(\"700x350\")\n",
    "\n",
    "def selection():\n",
    "    selected = \"You selected the option \" + str(radio.get())\n",
    "    label.config(text=selected)\n",
    "    \n",
    "def new_question():\n",
    "    question_label.config(text=\"What is your favorite programming language?\")\n",
    "    r1.config(text=\"C++\")\n",
    "    r1.deselect()\n",
    "    r1.config(value=1)\n",
    "    r2.config(text=\"Python\")\n",
    "    r2.deselect()\n",
    "    r2.config(value=2)\n",
    "    r3.config(text=\"Java\")\n",
    "    r3.deselect()\n",
    "    r3.config(value=3)\n",
    "    submit_button.config(state=NORMAL)\n",
    "\n",
    "def submit_answer():\n",
    "    global score\n",
    "    if radio.get() == 2:\n",
    "        score += 1\n",
    "    submit_button.config(state=DISABLED)\n",
    "    if question_number == num_questions:\n",
    "        result_label.config(text=\"You got {} out of {} questions correct.\".format(score, num_questions))\n",
    "    else:\n",
    "        question_number += 1\n",
    "        question_label.config(text=\"Question {}:\".format(question_number))\n",
    "        new_question()\n",
    "\n",
    "radio = IntVar()\n",
    "question_number = 1\n",
    "num_questions = 3\n",
    "score = 0\n",
    "\n",
    "Label(text=\"Your favorite icecream flavor:\", font=('Aerial 11')).pack()\n",
    "\n",
    "r1 = Radiobutton(root, text=\"Vanilla\", variable=radio, value=1, command=selection)\n",
    "\n",
    "r1.pack(anchor=N)\n",
    "r2 = Radiobutton(root, text=\"Chocolate\", variable=radio, value=2, command=selection)\n",
    "\n",
    "r2.pack(anchor=N)\n",
    "r3 = Radiobutton(root, text=\"Mint\", variable=radio, value=3, command=selection)\n",
    "\n",
    "r3.pack(anchor=N)\n",
    "\n",
    "label = Label(root)\n",
    "label.pack()\n",
    "\n",
    "question_label = Label(root, text=\"Question 1:\")\n",
    "question_label.pack()\n",
    "\n",
    "new_question_button = Button(root, text=\"New Question\", command=new_question)\n",
    "new_question_button.pack()\n",
    "\n",
    "submit_button = Button(root, text=\"Submit Answer\", command=submit_answer, state=DISABLED)\n",
    "submit_button.pack()\n",
    "\n",
    "result_label = Label(root)\n",
    "result_label.pack()\n",
    "\n",
    "root.mainloop()"
   ]
  },
  {
   "cell_type": "code",
   "execution_count": null,
   "id": "45384176",
   "metadata": {},
   "outputs": [],
   "source": []
  }
 ],
 "metadata": {
  "kernelspec": {
   "display_name": "Python 3 (ipykernel)",
   "language": "python",
   "name": "python3"
  },
  "language_info": {
   "codemirror_mode": {
    "name": "ipython",
    "version": 3
   },
   "file_extension": ".py",
   "mimetype": "text/x-python",
   "name": "python",
   "nbconvert_exporter": "python",
   "pygments_lexer": "ipython3",
   "version": "3.9.12"
  }
 },
 "nbformat": 4,
 "nbformat_minor": 5
}
