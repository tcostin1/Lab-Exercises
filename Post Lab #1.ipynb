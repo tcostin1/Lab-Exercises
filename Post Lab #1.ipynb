{
 "cells": [
  {
   "cell_type": "code",
   "execution_count": null,
   "id": "9692a987",
   "metadata": {},
   "outputs": [],
   "source": [
    "def longest(words):\n",
    "    longest = \"\"\n",
    "    for word in words:\n",
    "        if len(word) > len(longest):\n",
    "            longest = word\n",
    "    return longest\n",
    "\n",
    "list = [\"apple\", \"chestnut\", \"gargoyle\", \"pandas\", \"sheep\", \"raptor\"]\n",
    "print(longest(list))"
   ]
  },
  {
   "cell_type": "code",
   "execution_count": null,
   "id": "34414e53",
   "metadata": {},
   "outputs": [],
   "source": [
    "import pandas as pd\n",
    "Coffee = pd.read_csv(\"Coffee Chain.txt\", low_memory = False)\n",
    "Coffee\n",
    "\n",
    "def longest(\"Coffee Chain.txt\"):\n",
    "    longest = \"\"\n",
    "    for word in words:\n",
    "        if len(word) > len(longest):\n",
    "            longest = word\n",
    "    return longest\n",
    "\n",
    "list = rand.int()\n",
    "print(longest(list))"
   ]
  },
  {
   "cell_type": "code",
   "execution_count": null,
   "id": "ace714e5",
   "metadata": {},
   "outputs": [],
   "source": [
    "states = {\"New York\": \"NY\", \"California\": \"CA\", \"Florida\": \"FL\", \"Texas\": \"TX\", \"Oregon\": \"OR\"}\n",
    "states.copy()\n",
    "print(states.copy())\n",
    "states.get(\"Texas\")\n",
    "print(states.get(\"Texas\"))\n",
    "states.items\n",
    "print(states.keys())\n",
    "states.clear\n",
    "print(states.clear())"
   ]
  },
  {
   "cell_type": "code",
   "execution_count": null,
   "id": "cf6ed4d8",
   "metadata": {},
   "outputs": [],
   "source": [
    "class Records():\n",
    "    def __init__ (self, id_number, gpa, year, major):\n",
    "        self.id_number = id_number\n",
    "        self.gpa = gpa\n",
    "        self.year = year\n",
    "        self.major = major\n",
    "        \n",
    "    def statement(self):\n",
    "        print(\"Hi! My name is Cam and my id number is\", self.id_number + \" I have a\", self.gpa + \" Grade Point Average. I am a \", self.year + \"I am also a \" + self.major + \"major.\")\n",
    "        \n",
    "r1 = Records(\"0046342.\", \"3.5\", \"sophomore. \", \"film\")\n",
    "r1.statement()"
   ]
  },
  {
   "cell_type": "code",
   "execution_count": null,
   "id": "09fbfe44",
   "metadata": {},
   "outputs": [
    {
     "name": "stdout",
     "output_type": "stream",
     "text": [
      "['n', 'a', 'c', 'd', 'y']\n"
     ]
    }
   ],
   "source": [
    "correct = \"candy\"\n",
    "alphabet = ['a', 'b', 'c', 'd', 'e', 'f', 'g', 'h', 'i', 'j', 'k', 'l', 'm', 'n', 'o', 'p', 'q', 'r', 's', 't', 'u', 'v', 'w', 'x', 'y', 'z']\n",
    "Tries = 5\n",
    "correct_letters = 0\n",
    "lst = []\n",
    "\n",
    "for letter in correct:\n",
    "    lst.append(letter)\n",
    "word = list(set(lst))\n",
    "\n",
    "print(word)\n",
    "while Tries > 0:\n",
    "        if correct_letters == correct:\n",
    "                print(\"You Win!\")\n",
    "                break\n",
    "        guess = input(\"Guess a letter: \")\n",
    "        if guess in alphabet:\n",
    "            if guess in word:\n",
    "                print(guess + \" is correct\")\n",
    "                place = word.index(guess)\n",
    "                print(\"Your letter is at\", place)\n",
    "                alphabet.remove(guess)\n",
    "                length = len(word)\n",
    "                correct_letters += 1\n",
    "            else:\n",
    "                print(guess + \" is not correct\")\n",
    "                alphabet.remove(guess)\n",
    "                Tries = Tries - 1\n",
    "        else:\n",
    "            print(\"You have already guessed this letter\")\n",
    "            \n",
    "if Tries == 0:\n",
    "    print(\"Nice Try!\")"
   ]
  },
  {
   "cell_type": "code",
   "execution_count": null,
   "id": "e755013b",
   "metadata": {},
   "outputs": [],
   "source": []
  }
 ],
 "metadata": {
  "kernelspec": {
   "display_name": "Python 3 (ipykernel)",
   "language": "python",
   "name": "python3"
  },
  "language_info": {
   "codemirror_mode": {
    "name": "ipython",
    "version": 3
   },
   "file_extension": ".py",
   "mimetype": "text/x-python",
   "name": "python",
   "nbconvert_exporter": "python",
   "pygments_lexer": "ipython3",
   "version": "3.9.12"
  }
 },
 "nbformat": 4,
 "nbformat_minor": 5
}
